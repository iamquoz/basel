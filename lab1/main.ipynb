{
 "cells": [
  {
   "cell_type": "code",
   "execution_count": 134,
   "metadata": {},
   "outputs": [],
   "source": [
    "CELSIUS_STR = 'celsius'\n",
    "FAHRENHEIT_STR = 'fahrenheit'"
   ]
  },
  {
   "cell_type": "code",
   "execution_count": 135,
   "metadata": {},
   "outputs": [],
   "source": [
    "import re\n",
    "from typing import Dict\n",
    "\n",
    "def parse_temperature(input_str: str) -> tuple[float, str]:\n",
    "\tscales = {\n",
    "\t\tCELSIUS_STR: ['c', 'celsius', '°c'],\n",
    "\t\tFAHRENHEIT_STR: ['f', 'fahrenheit', '°f'],\n",
    "\t}\n",
    "\n",
    "\tvalue_match = re.search(r'([-+]?\\d+(\\.\\d+)?)', input_str)\n",
    "\tif value_match:\n",
    "\t\tvalue = float(value_match.group(1))\n",
    "\telse:\n",
    "\t\traise ValueError(\"Temperature value not found\")\n",
    "\n",
    "\tscale = None\n",
    "\n",
    "\tfor key, values in scales.items():\n",
    "\t\tfor val in values:\n",
    "\t\t\tif val.lower() in input_str.lower():\n",
    "\t\t\t\tscale = key\n",
    "\t\t\t\tbreak\n",
    "\t\tif scale:\n",
    "\t\t\tbreak\n",
    "\n",
    "\tif not scale:\n",
    "\t\tscale = CELSIUS_STR\n",
    "\n",
    "\treturn (value, scale)\n"
   ]
  },
  {
   "cell_type": "code",
   "execution_count": 136,
   "metadata": {},
   "outputs": [],
   "source": [
    "URL = 'https://www.w3schools.com/xml/tempconvert.asmx'"
   ]
  },
  {
   "cell_type": "code",
   "execution_count": 137,
   "metadata": {},
   "outputs": [],
   "source": [
    "def converter(value: float, scale):\n",
    "\timport requests\n",
    "\n",
    "\tbody = f\"\"\"<?xml version=\"1.0\" encoding=\"utf-8\"?>\n",
    "<soap12:Envelope xmlns:xsi=\"http://www.w3.org/2001/XMLSchema-instance\" xmlns:xsd=\"http://www.w3.org/2001/XMLSchema\" xmlns:soap12=\"http://www.w3.org/2003/05/soap-envelope\">\n",
    "  <soap12:Body>\n",
    "  {\n",
    "\t  scale == FAHRENHEIT_STR and \n",
    "\t  f\"\"\"<FahrenheitToCelsius xmlns=\"https://www.w3schools.com/xml/\">\n",
    "\t  \t\t<Fahrenheit>\n",
    "\t\t\t\t{value}\n",
    "\t\t\t</Fahrenheit>\n",
    "\t\t</FahrenheitToCelsius>\"\"\" \n",
    "\t\tor \n",
    "\t  f\"\"\"<CelsiusToFahrenheit xmlns=\"https://www.w3schools.com/xml/\">\n",
    "\t  \t\t<Celsius>\n",
    "\t\t\t\t{value}\n",
    "\t\t\t</Celsius>\n",
    "\t\t</CelsiusToFahrenheit>\"\"\"\n",
    "  }\n",
    "  </soap12:Body>\n",
    "</soap12:Envelope>\"\"\"\n",
    "\n",
    "\theaders = {\n",
    "\t\t'Content-Type': 'application/soap+xml; charset=utf-8',\n",
    "\t\t'Host': 'www.w3schools.com',\n",
    "\t\t'User-Agent': 'Mozilla/5.0',\n",
    "\t\t'Content-Length': str(len(body)),\n",
    "\t}\n",
    "\n",
    "\tresponse = requests.post(URL, headers=headers, data=body)\n",
    "\n",
    "\tmatch = re.search(r'<(FahrenheitToCelsius|CelsiusToFahrenheit)Result>(.*?)</\\1Result>', response.text)\n",
    "\treturn float(match.group(2))\n",
    "\n"
   ]
  },
  {
   "cell_type": "code",
   "execution_count": 138,
   "metadata": {},
   "outputs": [],
   "source": [
    "(value, scale) = parse_temperature(input(\"Enter temperature and scale (f or c or variations thereof): \"))\n"
   ]
  },
  {
   "cell_type": "code",
   "execution_count": 139,
   "metadata": {},
   "outputs": [],
   "source": [
    "converted = converter(value, scale)\n"
   ]
  },
  {
   "cell_type": "code",
   "execution_count": 140,
   "metadata": {},
   "outputs": [
    {
     "name": "stdout",
     "output_type": "stream",
     "text": [
      "40.00 C is 104.00° F\n"
     ]
    }
   ],
   "source": [
    "print(f\"{value:.2f} {scale.upper()[0]} is {converted:.2f}° {'F' if scale == CELSIUS_STR else 'C'}\")"
   ]
  }
 ],
 "metadata": {
  "kernelspec": {
   "display_name": "Python 3",
   "language": "python",
   "name": "python3"
  },
  "language_info": {
   "codemirror_mode": {
    "name": "ipython",
    "version": 3
   },
   "file_extension": ".py",
   "mimetype": "text/x-python",
   "name": "python",
   "nbconvert_exporter": "python",
   "pygments_lexer": "ipython3",
   "version": "3.12.1"
  }
 },
 "nbformat": 4,
 "nbformat_minor": 2
}
